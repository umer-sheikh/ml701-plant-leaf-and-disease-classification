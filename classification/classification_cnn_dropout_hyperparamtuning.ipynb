{
 "cells": [
  {
   "cell_type": "markdown",
   "metadata": {},
   "source": [
    "# Classification on PlantVillage Dataset "
   ]
  },
  {
   "cell_type": "markdown",
   "metadata": {},
   "source": [
    "## importing dependencies"
   ]
  },
  {
   "cell_type": "code",
   "execution_count": 1,
   "metadata": {},
   "outputs": [],
   "source": [
    "import pandas as pd\n",
    "import os\n",
    "import matplotlib.pyplot as plt\n",
    "from sklearn.model_selection import train_test_split\n",
    "import seaborn as sns\n",
    "from torch.utils.data import Dataset\n",
    "from PIL import Image\n",
    "from torchvision import transforms\n",
    "import torch\n",
    "from torch.utils.data import DataLoader\n",
    "from torchvision.utils import make_grid"
   ]
  },
  {
   "cell_type": "markdown",
   "metadata": {},
   "source": [
    "## Configuring directories"
   ]
  },
  {
   "cell_type": "code",
   "execution_count": 2,
   "metadata": {},
   "outputs": [],
   "source": [
    "data_dir = \"./dataset/complete/\"\n",
    "\n",
    "diseases = os.listdir(data_dir)"
   ]
  },
  {
   "cell_type": "markdown",
   "metadata": {},
   "source": [
    "# Data Exploration"
   ]
  },
  {
   "cell_type": "code",
   "execution_count": 3,
   "metadata": {},
   "outputs": [],
   "source": [
    "diseases\n",
    "\n",
    "diseases.sort()"
   ]
  },
  {
   "cell_type": "code",
   "execution_count": 4,
   "metadata": {},
   "outputs": [
    {
     "data": {
      "text/plain": [
       "['Apple___Apple_scab',\n",
       " 'Apple___Black_rot',\n",
       " 'Apple___Cedar_apple_rust',\n",
       " 'Apple___healthy',\n",
       " 'Blueberry___healthy',\n",
       " 'Cherry_(including_sour)___Powdery_mildew',\n",
       " 'Cherry_(including_sour)___healthy',\n",
       " 'Corn_(maize)___Cercospora_leaf_spot Gray_leaf_spot',\n",
       " 'Corn_(maize)___Common_rust_',\n",
       " 'Corn_(maize)___Northern_Leaf_Blight',\n",
       " 'Corn_(maize)___healthy',\n",
       " 'Grape___Black_rot',\n",
       " 'Grape___Esca_(Black_Measles)',\n",
       " 'Grape___Leaf_blight_(Isariopsis_Leaf_Spot)',\n",
       " 'Grape___healthy',\n",
       " 'Orange___Haunglongbing_(Citrus_greening)',\n",
       " 'Peach___Bacterial_spot',\n",
       " 'Peach___healthy',\n",
       " 'Pepper,_bell___Bacterial_spot',\n",
       " 'Pepper,_bell___healthy',\n",
       " 'Potato___Early_blight',\n",
       " 'Potato___Late_blight',\n",
       " 'Potato___healthy',\n",
       " 'Raspberry___healthy',\n",
       " 'Soybean___healthy',\n",
       " 'Squash___Powdery_mildew',\n",
       " 'Strawberry___Leaf_scorch',\n",
       " 'Strawberry___healthy',\n",
       " 'Tomato___Bacterial_spot',\n",
       " 'Tomato___Early_blight',\n",
       " 'Tomato___Late_blight',\n",
       " 'Tomato___Leaf_Mold',\n",
       " 'Tomato___Septoria_leaf_spot',\n",
       " 'Tomato___Spider_mites Two-spotted_spider_mite',\n",
       " 'Tomato___Target_Spot',\n",
       " 'Tomato___Tomato_Yellow_Leaf_Curl_Virus',\n",
       " 'Tomato___Tomato_mosaic_virus',\n",
       " 'Tomato___healthy']"
      ]
     },
     "execution_count": 4,
     "metadata": {},
     "output_type": "execute_result"
    }
   ],
   "source": [
    "diseases"
   ]
  },
  {
   "cell_type": "code",
   "execution_count": 5,
   "metadata": {},
   "outputs": [
    {
     "name": "stdout",
     "output_type": "stream",
     "text": [
      "Total disease classes are: 38\n"
     ]
    }
   ],
   "source": [
    "print(\"Total disease classes are: {}\".format(len(diseases)))"
   ]
  },
  {
   "cell_type": "code",
   "execution_count": 6,
   "metadata": {},
   "outputs": [],
   "source": [
    "plants = []\n",
    "NumberOfDiseases = 0\n",
    "for plant in diseases:\n",
    "    if plant.split('___')[0] not in plants:\n",
    "        plants.append(plant.split('___')[0])\n",
    "    if plant.split('___')[1] != 'healthy':\n",
    "        NumberOfDiseases += 1"
   ]
  },
  {
   "cell_type": "code",
   "execution_count": 7,
   "metadata": {},
   "outputs": [
    {
     "name": "stdout",
     "output_type": "stream",
     "text": [
      "Number of plants: 14\n"
     ]
    }
   ],
   "source": [
    "print(\"Number of plants: {}\".format(len(plants)))"
   ]
  },
  {
   "cell_type": "code",
   "execution_count": 8,
   "metadata": {},
   "outputs": [
    {
     "name": "stdout",
     "output_type": "stream",
     "text": [
      "Number of diseases: 26\n"
     ]
    }
   ],
   "source": [
    "print(\"Number of diseases: {}\".format(NumberOfDiseases))"
   ]
  },
  {
   "cell_type": "markdown",
   "metadata": {},
   "source": [
    "# Composing dataframe"
   ]
  },
  {
   "cell_type": "code",
   "execution_count": 9,
   "metadata": {},
   "outputs": [],
   "source": [
    "data = []\n",
    "for class_name in os.listdir(data_dir):\n",
    "    class_path = os.path.join(data_dir, class_name)\n",
    "    if os.path.isdir(class_path):\n",
    "        for img in os.listdir(class_path):\n",
    "            img_path = os.path.join(class_path, img)\n",
    "            data.append({'label': class_name, 'image_path': img_path})\n",
    "\n",
    "df = pd.DataFrame(data)"
   ]
  },
  {
   "cell_type": "code",
   "execution_count": 10,
   "metadata": {},
   "outputs": [
    {
     "data": {
      "text/html": [
       "<div>\n",
       "<style scoped>\n",
       "    .dataframe tbody tr th:only-of-type {\n",
       "        vertical-align: middle;\n",
       "    }\n",
       "\n",
       "    .dataframe tbody tr th {\n",
       "        vertical-align: top;\n",
       "    }\n",
       "\n",
       "    .dataframe thead th {\n",
       "        text-align: right;\n",
       "    }\n",
       "</style>\n",
       "<table border=\"1\" class=\"dataframe\">\n",
       "  <thead>\n",
       "    <tr style=\"text-align: right;\">\n",
       "      <th></th>\n",
       "      <th>label</th>\n",
       "      <th>image_path</th>\n",
       "    </tr>\n",
       "  </thead>\n",
       "  <tbody>\n",
       "    <tr>\n",
       "      <th>0</th>\n",
       "      <td>Raspberry___healthy</td>\n",
       "      <td>./dataset/complete/Raspberry___healthy/9efc34d...</td>\n",
       "    </tr>\n",
       "    <tr>\n",
       "      <th>1</th>\n",
       "      <td>Raspberry___healthy</td>\n",
       "      <td>./dataset/complete/Raspberry___healthy/171c4de...</td>\n",
       "    </tr>\n",
       "    <tr>\n",
       "      <th>2</th>\n",
       "      <td>Raspberry___healthy</td>\n",
       "      <td>./dataset/complete/Raspberry___healthy/ba2f9f8...</td>\n",
       "    </tr>\n",
       "    <tr>\n",
       "      <th>3</th>\n",
       "      <td>Raspberry___healthy</td>\n",
       "      <td>./dataset/complete/Raspberry___healthy/b9d49b1...</td>\n",
       "    </tr>\n",
       "    <tr>\n",
       "      <th>4</th>\n",
       "      <td>Raspberry___healthy</td>\n",
       "      <td>./dataset/complete/Raspberry___healthy/1bc672d...</td>\n",
       "    </tr>\n",
       "  </tbody>\n",
       "</table>\n",
       "</div>"
      ],
      "text/plain": [
       "                 label                                         image_path\n",
       "0  Raspberry___healthy  ./dataset/complete/Raspberry___healthy/9efc34d...\n",
       "1  Raspberry___healthy  ./dataset/complete/Raspberry___healthy/171c4de...\n",
       "2  Raspberry___healthy  ./dataset/complete/Raspberry___healthy/ba2f9f8...\n",
       "3  Raspberry___healthy  ./dataset/complete/Raspberry___healthy/b9d49b1...\n",
       "4  Raspberry___healthy  ./dataset/complete/Raspberry___healthy/1bc672d..."
      ]
     },
     "execution_count": 10,
     "metadata": {},
     "output_type": "execute_result"
    }
   ],
   "source": [
    "df.head()"
   ]
  },
  {
   "cell_type": "code",
   "execution_count": 11,
   "metadata": {},
   "outputs": [
    {
     "data": {
      "text/plain": [
       "Soybean___healthy                                     2527\n",
       "Apple___Apple_scab                                    2520\n",
       "Orange___Haunglongbing_(Citrus_greening)              2513\n",
       "Apple___healthy                                       2510\n",
       "Pepper,_bell___healthy                                2485\n",
       "Apple___Black_rot                                     2484\n",
       "Tomato___Tomato_Yellow_Leaf_Curl_Virus                2451\n",
       "Potato___Early_blight                                 2424\n",
       "Potato___Late_blight                                  2424\n",
       "Tomato___healthy                                      2407\n",
       "Tomato___Early_blight                                 2400\n",
       "Grape___Esca_(Black_Measles)                          2400\n",
       "Pepper,_bell___Bacterial_spot                         2391\n",
       "Corn_(maize)___Northern_Leaf_Blight                   2385\n",
       "Corn_(maize)___Common_rust_                           2384\n",
       "Grape___Black_rot                                     2360\n",
       "Tomato___Leaf_Mold                                    2352\n",
       "Corn_(maize)___healthy                                2324\n",
       "Tomato___Late_blight                                  2314\n",
       "Peach___Bacterial_spot                                2297\n",
       "Tomato___Target_Spot                                  2284\n",
       "Cherry_(including_sour)___healthy                     2282\n",
       "Potato___healthy                                      2280\n",
       "Strawberry___healthy                                  2280\n",
       "Blueberry___healthy                                   2270\n",
       "Tomato___Tomato_mosaic_virus                          2238\n",
       "Raspberry___healthy                                   2226\n",
       "Strawberry___Leaf_scorch                              2218\n",
       "Apple___Cedar_apple_rust                              2200\n",
       "Tomato___Septoria_leaf_spot                           2181\n",
       "Tomato___Spider_mites Two-spotted_spider_mite         2176\n",
       "Squash___Powdery_mildew                               2170\n",
       "Peach___healthy                                       2160\n",
       "Grape___Leaf_blight_(Isariopsis_Leaf_Spot)            2152\n",
       "Tomato___Bacterial_spot                               2127\n",
       "Grape___healthy                                       2115\n",
       "Cherry_(including_sour)___Powdery_mildew              2104\n",
       "Corn_(maize)___Cercospora_leaf_spot Gray_leaf_spot    2052\n",
       "Name: label, dtype: int64"
      ]
     },
     "execution_count": 11,
     "metadata": {},
     "output_type": "execute_result"
    }
   ],
   "source": [
    "df['label'].value_counts()"
   ]
  },
  {
   "cell_type": "code",
   "execution_count": 12,
   "metadata": {},
   "outputs": [
    {
     "name": "stderr",
     "output_type": "stream",
     "text": [
      "/tmp/ipykernel_70562/1312721563.py:3: UserWarning: FixedFormatter should only be used together with FixedLocator\n",
      "  ax.set_xticklabels(ax.get_xticklabels(), rotation=90)  # Rotate labels to display vertically\n"
     ]
    },
    {
     "data": {
      "image/png": "[encoded data removed]",
      "text/plain": [
       "<Figure size 1500x800 with 1 Axes>"
      ]
     },
     "metadata": {},
     "output_type": "display_data"
    }
   ],
   "source": [
    "plt.figure(figsize=(15, 8))  # Increased width for a more stretched chart\n",
    "ax = sns.countplot(x='label', data=df)\n",
    "ax.set_xticklabels(ax.get_xticklabels(), rotation=90)  # Rotate labels to display vertically\n",
    "plt.show()"
   ]
  },
  {
   "cell_type": "code",
   "execution_count": 13,
   "metadata": {},
   "outputs": [],
   "source": [
    "# Label to index mapping\n",
    "unique_labels = df['label'].unique()\n",
    "label_to_index = {label: idx for idx, label in enumerate(unique_labels)}\n",
    "\n",
    "# Index to label mapping\n",
    "index_to_label = {idx: label for label, idx in label_to_index.items()}\n",
    "\n",
    "# Apply label encoding to your DataFrame\n",
    "df['encoded_label'] = df['label'].map(label_to_index)"
   ]
  },
  {
   "cell_type": "code",
   "execution_count": 14,
   "metadata": {},
   "outputs": [
    {
     "data": {
      "text/html": [
       "<div>\n",
       "<style scoped>\n",
       "    .dataframe tbody tr th:only-of-type {\n",
       "        vertical-align: middle;\n",
       "    }\n",
       "\n",
       "    .dataframe tbody tr th {\n",
       "        vertical-align: top;\n",
       "    }\n",
       "\n",
       "    .dataframe thead th {\n",
       "        text-align: right;\n",
       "    }\n",
       "</style>\n",
       "<table border=\"1\" class=\"dataframe\">\n",
       "  <thead>\n",
       "    <tr style=\"text-align: right;\">\n",
       "      <th></th>\n",
       "      <th>label</th>\n",
       "      <th>image_path</th>\n",
       "      <th>encoded_label</th>\n",
       "    </tr>\n",
       "  </thead>\n",
       "  <tbody>\n",
       "    <tr>\n",
       "      <th>0</th>\n",
       "      <td>Raspberry___healthy</td>\n",
       "      <td>./dataset/complete/Raspberry___healthy/9efc34d...</td>\n",
       "      <td>0</td>\n",
       "    </tr>\n",
       "    <tr>\n",
       "      <th>1</th>\n",
       "      <td>Raspberry___healthy</td>\n",
       "      <td>./dataset/complete/Raspberry___healthy/171c4de...</td>\n",
       "      <td>0</td>\n",
       "    </tr>\n",
       "    <tr>\n",
       "      <th>2</th>\n",
       "      <td>Raspberry___healthy</td>\n",
       "      <td>./dataset/complete/Raspberry___healthy/ba2f9f8...</td>\n",
       "      <td>0</td>\n",
       "    </tr>\n",
       "    <tr>\n",
       "      <th>3</th>\n",
       "      <td>Raspberry___healthy</td>\n",
       "      <td>./dataset/complete/Raspberry___healthy/b9d49b1...</td>\n",
       "      <td>0</td>\n",
       "    </tr>\n",
       "    <tr>\n",
       "      <th>4</th>\n",
       "      <td>Raspberry___healthy</td>\n",
       "      <td>./dataset/complete/Raspberry___healthy/1bc672d...</td>\n",
       "      <td>0</td>\n",
       "    </tr>\n",
       "  </tbody>\n",
       "</table>\n",
       "</div>"
      ],
      "text/plain": [
       "                 label                                         image_path  \\\n",
       "0  Raspberry___healthy  ./dataset/complete/Raspberry___healthy/9efc34d...   \n",
       "1  Raspberry___healthy  ./dataset/complete/Raspberry___healthy/171c4de...   \n",
       "2  Raspberry___healthy  ./dataset/complete/Raspberry___healthy/ba2f9f8...   \n",
       "3  Raspberry___healthy  ./dataset/complete/Raspberry___healthy/b9d49b1...   \n",
       "4  Raspberry___healthy  ./dataset/complete/Raspberry___healthy/1bc672d...   \n",
       "\n",
       "   encoded_label  \n",
       "0              0  \n",
       "1              0  \n",
       "2              0  \n",
       "3              0  \n",
       "4              0  "
      ]
     },
     "execution_count": 14,
     "metadata": {},
     "output_type": "execute_result"
    }
   ],
   "source": [
    "df.head()"
   ]
  },
  {
   "cell_type": "markdown",
   "metadata": {},
   "source": [
    "# Train, valid, test split"
   ]
  },
  {
   "cell_type": "code",
   "execution_count": 15,
   "metadata": {},
   "outputs": [],
   "source": [
    "train_temp, test = train_test_split(df, test_size=0.2, stratify=df['label'], random_state=42)\n",
    "train, valid = train_test_split(train_temp, test_size=0.25, stratify=train_temp['label'], random_state=42)"
   ]
  },
  {
   "cell_type": "code",
   "execution_count": 16,
   "metadata": {},
   "outputs": [
    {
     "data": {
      "text/html": [
       "<div>\n",
       "<style scoped>\n",
       "    .dataframe tbody tr th:only-of-type {\n",
       "        vertical-align: middle;\n",
       "    }\n",
       "\n",
       "    .dataframe tbody tr th {\n",
       "        vertical-align: top;\n",
       "    }\n",
       "\n",
       "    .dataframe thead th {\n",
       "        text-align: right;\n",
       "    }\n",
       "</style>\n",
       "<table border=\"1\" class=\"dataframe\">\n",
       "  <thead>\n",
       "    <tr style=\"text-align: right;\">\n",
       "      <th></th>\n",
       "      <th>label</th>\n",
       "      <th>image_path</th>\n",
       "      <th>encoded_label</th>\n",
       "    </tr>\n",
       "  </thead>\n",
       "  <tbody>\n",
       "    <tr>\n",
       "      <th>85429</th>\n",
       "      <td>Grape___Leaf_blight_(Isariopsis_Leaf_Spot)</td>\n",
       "      <td>./dataset/complete/Grape___Leaf_blight_(Isario...</td>\n",
       "      <td>36</td>\n",
       "    </tr>\n",
       "    <tr>\n",
       "      <th>20199</th>\n",
       "      <td>Corn_(maize)___Common_rust_</td>\n",
       "      <td>./dataset/complete/Corn_(maize)___Common_rust_...</td>\n",
       "      <td>8</td>\n",
       "    </tr>\n",
       "    <tr>\n",
       "      <th>50537</th>\n",
       "      <td>Peach___Bacterial_spot</td>\n",
       "      <td>./dataset/complete/Peach___Bacterial_spot/da45...</td>\n",
       "      <td>21</td>\n",
       "    </tr>\n",
       "    <tr>\n",
       "      <th>28195</th>\n",
       "      <td>Peach___healthy</td>\n",
       "      <td>./dataset/complete/Peach___healthy/0999b486-f3...</td>\n",
       "      <td>12</td>\n",
       "    </tr>\n",
       "    <tr>\n",
       "      <th>6736</th>\n",
       "      <td>Tomato___Leaf_Mold</td>\n",
       "      <td>./dataset/complete/Tomato___Leaf_Mold/220cb426...</td>\n",
       "      <td>2</td>\n",
       "    </tr>\n",
       "    <tr>\n",
       "      <th>...</th>\n",
       "      <td>...</td>\n",
       "      <td>...</td>\n",
       "      <td>...</td>\n",
       "    </tr>\n",
       "    <tr>\n",
       "      <th>57208</th>\n",
       "      <td>Corn_(maize)___Northern_Leaf_Blight</td>\n",
       "      <td>./dataset/complete/Corn_(maize)___Northern_Lea...</td>\n",
       "      <td>24</td>\n",
       "    </tr>\n",
       "    <tr>\n",
       "      <th>81978</th>\n",
       "      <td>Potato___Early_blight</td>\n",
       "      <td>./dataset/complete/Potato___Early_blight/68693...</td>\n",
       "      <td>35</td>\n",
       "    </tr>\n",
       "    <tr>\n",
       "      <th>76973</th>\n",
       "      <td>Pepper,_bell___Bacterial_spot</td>\n",
       "      <td>./dataset/complete/Pepper,_bell___Bacterial_sp...</td>\n",
       "      <td>33</td>\n",
       "    </tr>\n",
       "    <tr>\n",
       "      <th>36548</th>\n",
       "      <td>Orange___Haunglongbing_(Citrus_greening)</td>\n",
       "      <td>./dataset/complete/Orange___Haunglongbing_(Cit...</td>\n",
       "      <td>15</td>\n",
       "    </tr>\n",
       "    <tr>\n",
       "      <th>5354</th>\n",
       "      <td>Tomato___Leaf_Mold</td>\n",
       "      <td>./dataset/complete/Tomato___Leaf_Mold/eab7f198...</td>\n",
       "      <td>2</td>\n",
       "    </tr>\n",
       "  </tbody>\n",
       "</table>\n",
       "<p>52719 rows × 3 columns</p>\n",
       "</div>"
      ],
      "text/plain": [
       "                                            label  \\\n",
       "85429  Grape___Leaf_blight_(Isariopsis_Leaf_Spot)   \n",
       "20199                 Corn_(maize)___Common_rust_   \n",
       "50537                      Peach___Bacterial_spot   \n",
       "28195                             Peach___healthy   \n",
       "6736                           Tomato___Leaf_Mold   \n",
       "...                                           ...   \n",
       "57208         Corn_(maize)___Northern_Leaf_Blight   \n",
       "81978                       Potato___Early_blight   \n",
       "76973               Pepper,_bell___Bacterial_spot   \n",
       "36548    Orange___Haunglongbing_(Citrus_greening)   \n",
       "5354                           Tomato___Leaf_Mold   \n",
       "\n",
       "                                              image_path  encoded_label  \n",
       "85429  ./dataset/complete/Grape___Leaf_blight_(Isario...             36  \n",
       "20199  ./dataset/complete/Corn_(maize)___Common_rust_...              8  \n",
       "50537  ./dataset/complete/Peach___Bacterial_spot/da45...             21  \n",
       "28195  ./dataset/complete/Peach___healthy/0999b486-f3...             12  \n",
       "6736   ./dataset/complete/Tomato___Leaf_Mold/220cb426...              2  \n",
       "...                                                  ...            ...  \n",
       "57208  ./dataset/complete/Corn_(maize)___Northern_Lea...             24  \n",
       "81978  ./dataset/complete/Potato___Early_blight/68693...             35  \n",
       "76973  ./dataset/complete/Pepper,_bell___Bacterial_sp...             33  \n",
       "36548  ./dataset/complete/Orange___Haunglongbing_(Cit...             15  \n",
       "5354   ./dataset/complete/Tomato___Leaf_Mold/eab7f198...              2  \n",
       "\n",
       "[52719 rows x 3 columns]"
      ]
     },
     "execution_count": 16,
     "metadata": {},
     "output_type": "execute_result"
    }
   ],
   "source": [
    "train"
   ]
  },
  {
   "cell_type": "code",
   "execution_count": 17,
   "metadata": {},
   "outputs": [
    {
     "data": {
      "text/html": [
       "<div>\n",
       "<style scoped>\n",
       "    .dataframe tbody tr th:only-of-type {\n",
       "        vertical-align: middle;\n",
       "    }\n",
       "\n",
       "    .dataframe tbody tr th {\n",
       "        vertical-align: top;\n",
       "    }\n",
       "\n",
       "    .dataframe thead th {\n",
       "        text-align: right;\n",
       "    }\n",
       "</style>\n",
       "<table border=\"1\" class=\"dataframe\">\n",
       "  <thead>\n",
       "    <tr style=\"text-align: right;\">\n",
       "      <th></th>\n",
       "      <th>label</th>\n",
       "      <th>image_path</th>\n",
       "      <th>encoded_label</th>\n",
       "    </tr>\n",
       "  </thead>\n",
       "  <tbody>\n",
       "    <tr>\n",
       "      <th>41819</th>\n",
       "      <td>Tomato___Tomato_mosaic_virus</td>\n",
       "      <td>./dataset/complete/Tomato___Tomato_mosaic_viru...</td>\n",
       "      <td>18</td>\n",
       "    </tr>\n",
       "    <tr>\n",
       "      <th>49158</th>\n",
       "      <td>Peach___Bacterial_spot</td>\n",
       "      <td>./dataset/complete/Peach___Bacterial_spot/b03f...</td>\n",
       "      <td>21</td>\n",
       "    </tr>\n",
       "    <tr>\n",
       "      <th>49088</th>\n",
       "      <td>Peach___Bacterial_spot</td>\n",
       "      <td>./dataset/complete/Peach___Bacterial_spot/db63...</td>\n",
       "      <td>21</td>\n",
       "    </tr>\n",
       "    <tr>\n",
       "      <th>34982</th>\n",
       "      <td>Orange___Haunglongbing_(Citrus_greening)</td>\n",
       "      <td>./dataset/complete/Orange___Haunglongbing_(Cit...</td>\n",
       "      <td>15</td>\n",
       "    </tr>\n",
       "    <tr>\n",
       "      <th>46186</th>\n",
       "      <td>Apple___healthy</td>\n",
       "      <td>./dataset/complete/Apple___healthy/b0178b88-d4...</td>\n",
       "      <td>19</td>\n",
       "    </tr>\n",
       "    <tr>\n",
       "      <th>...</th>\n",
       "      <td>...</td>\n",
       "      <td>...</td>\n",
       "      <td>...</td>\n",
       "    </tr>\n",
       "    <tr>\n",
       "      <th>7470</th>\n",
       "      <td>Apple___Cedar_apple_rust</td>\n",
       "      <td>./dataset/complete/Apple___Cedar_apple_rust/5c...</td>\n",
       "      <td>3</td>\n",
       "    </tr>\n",
       "    <tr>\n",
       "      <th>52589</th>\n",
       "      <td>Pepper,_bell___healthy</td>\n",
       "      <td>./dataset/complete/Pepper,_bell___healthy/3ba5...</td>\n",
       "      <td>22</td>\n",
       "    </tr>\n",
       "    <tr>\n",
       "      <th>63447</th>\n",
       "      <td>Tomato___Bacterial_spot</td>\n",
       "      <td>./dataset/complete/Tomato___Bacterial_spot/971...</td>\n",
       "      <td>27</td>\n",
       "    </tr>\n",
       "    <tr>\n",
       "      <th>76305</th>\n",
       "      <td>Tomato___Septoria_leaf_spot</td>\n",
       "      <td>./dataset/complete/Tomato___Septoria_leaf_spot...</td>\n",
       "      <td>32</td>\n",
       "    </tr>\n",
       "    <tr>\n",
       "      <th>12449</th>\n",
       "      <td>Tomato___Target_Spot</td>\n",
       "      <td>./dataset/complete/Tomato___Target_Spot/0a5161...</td>\n",
       "      <td>5</td>\n",
       "    </tr>\n",
       "  </tbody>\n",
       "</table>\n",
       "<p>17574 rows × 3 columns</p>\n",
       "</div>"
      ],
      "text/plain": [
       "                                          label  \\\n",
       "41819              Tomato___Tomato_mosaic_virus   \n",
       "49158                    Peach___Bacterial_spot   \n",
       "49088                    Peach___Bacterial_spot   \n",
       "34982  Orange___Haunglongbing_(Citrus_greening)   \n",
       "46186                           Apple___healthy   \n",
       "...                                         ...   \n",
       "7470                   Apple___Cedar_apple_rust   \n",
       "52589                    Pepper,_bell___healthy   \n",
       "63447                   Tomato___Bacterial_spot   \n",
       "76305               Tomato___Septoria_leaf_spot   \n",
       "12449                      Tomato___Target_Spot   \n",
       "\n",
       "                                              image_path  encoded_label  \n",
       "41819  ./dataset/complete/Tomato___Tomato_mosaic_viru...             18  \n",
       "49158  ./dataset/complete/Peach___Bacterial_spot/b03f...             21  \n",
       "49088  ./dataset/complete/Peach___Bacterial_spot/db63...             21  \n",
       "34982  ./dataset/complete/Orange___Haunglongbing_(Cit...             15  \n",
       "46186  ./dataset/complete/Apple___healthy/b0178b88-d4...             19  \n",
       "...                                                  ...            ...  \n",
       "7470   ./dataset/complete/Apple___Cedar_apple_rust/5c...              3  \n",
       "52589  ./dataset/complete/Pepper,_bell___healthy/3ba5...             22  \n",
       "63447  ./dataset/complete/Tomato___Bacterial_spot/971...             27  \n",
       "76305  ./dataset/complete/Tomato___Septoria_leaf_spot...             32  \n",
       "12449  ./dataset/complete/Tomato___Target_Spot/0a5161...              5  \n",
       "\n",
       "[17574 rows x 3 columns]"
      ]
     },
     "execution_count": 17,
     "metadata": {},
     "output_type": "execute_result"
    }
   ],
   "source": [
    "valid"
   ]
  },
  {
   "cell_type": "code",
   "execution_count": 18,
   "metadata": {},
   "outputs": [
    {
     "data": {
      "text/html": [
       "<div>\n",
       "<style scoped>\n",
       "    .dataframe tbody tr th:only-of-type {\n",
       "        vertical-align: middle;\n",
       "    }\n",
       "\n",
       "    .dataframe tbody tr th {\n",
       "        vertical-align: top;\n",
       "    }\n",
       "\n",
       "    .dataframe thead th {\n",
       "        text-align: right;\n",
       "    }\n",
       "</style>\n",
       "<table border=\"1\" class=\"dataframe\">\n",
       "  <thead>\n",
       "    <tr style=\"text-align: right;\">\n",
       "      <th></th>\n",
       "      <th>label</th>\n",
       "      <th>image_path</th>\n",
       "      <th>encoded_label</th>\n",
       "    </tr>\n",
       "  </thead>\n",
       "  <tbody>\n",
       "    <tr>\n",
       "      <th>28123</th>\n",
       "      <td>Peach___healthy</td>\n",
       "      <td>./dataset/complete/Peach___healthy/3412d130-23...</td>\n",
       "      <td>12</td>\n",
       "    </tr>\n",
       "    <tr>\n",
       "      <th>70932</th>\n",
       "      <td>Cherry_(including_sour)___Powdery_mildew</td>\n",
       "      <td>./dataset/complete/Cherry_(including_sour)___P...</td>\n",
       "      <td>30</td>\n",
       "    </tr>\n",
       "    <tr>\n",
       "      <th>58702</th>\n",
       "      <td>Potato___healthy</td>\n",
       "      <td>./dataset/complete/Potato___healthy/7e6c8297-d...</td>\n",
       "      <td>25</td>\n",
       "    </tr>\n",
       "    <tr>\n",
       "      <th>67516</th>\n",
       "      <td>Apple___Black_rot</td>\n",
       "      <td>./dataset/complete/Apple___Black_rot/8277c9af-...</td>\n",
       "      <td>28</td>\n",
       "    </tr>\n",
       "    <tr>\n",
       "      <th>4497</th>\n",
       "      <td>Tomato___Leaf_Mold</td>\n",
       "      <td>./dataset/complete/Tomato___Leaf_Mold/60f7b149...</td>\n",
       "      <td>2</td>\n",
       "    </tr>\n",
       "    <tr>\n",
       "      <th>...</th>\n",
       "      <td>...</td>\n",
       "      <td>...</td>\n",
       "      <td>...</td>\n",
       "    </tr>\n",
       "    <tr>\n",
       "      <th>63629</th>\n",
       "      <td>Tomato___Bacterial_spot</td>\n",
       "      <td>./dataset/complete/Tomato___Bacterial_spot/a2b...</td>\n",
       "      <td>27</td>\n",
       "    </tr>\n",
       "    <tr>\n",
       "      <th>14938</th>\n",
       "      <td>Grape___Esca_(Black_Measles)</td>\n",
       "      <td>./dataset/complete/Grape___Esca_(Black_Measles...</td>\n",
       "      <td>6</td>\n",
       "    </tr>\n",
       "    <tr>\n",
       "      <th>1496</th>\n",
       "      <td>Raspberry___healthy</td>\n",
       "      <td>./dataset/complete/Raspberry___healthy/b1291c3...</td>\n",
       "      <td>0</td>\n",
       "    </tr>\n",
       "    <tr>\n",
       "      <th>37216</th>\n",
       "      <td>Tomato___Spider_mites Two-spotted_spider_mite</td>\n",
       "      <td>./dataset/complete/Tomato___Spider_mites Two-s...</td>\n",
       "      <td>16</td>\n",
       "    </tr>\n",
       "    <tr>\n",
       "      <th>59425</th>\n",
       "      <td>Potato___healthy</td>\n",
       "      <td>./dataset/complete/Potato___healthy/b35b9f8b-d...</td>\n",
       "      <td>25</td>\n",
       "    </tr>\n",
       "  </tbody>\n",
       "</table>\n",
       "<p>17574 rows × 3 columns</p>\n",
       "</div>"
      ],
      "text/plain": [
       "                                               label  \\\n",
       "28123                                Peach___healthy   \n",
       "70932       Cherry_(including_sour)___Powdery_mildew   \n",
       "58702                               Potato___healthy   \n",
       "67516                              Apple___Black_rot   \n",
       "4497                              Tomato___Leaf_Mold   \n",
       "...                                              ...   \n",
       "63629                        Tomato___Bacterial_spot   \n",
       "14938                   Grape___Esca_(Black_Measles)   \n",
       "1496                             Raspberry___healthy   \n",
       "37216  Tomato___Spider_mites Two-spotted_spider_mite   \n",
       "59425                               Potato___healthy   \n",
       "\n",
       "                                              image_path  encoded_label  \n",
       "28123  ./dataset/complete/Peach___healthy/3412d130-23...             12  \n",
       "70932  ./dataset/complete/Cherry_(including_sour)___P...             30  \n",
       "58702  ./dataset/complete/Potato___healthy/7e6c8297-d...             25  \n",
       "67516  ./dataset/complete/Apple___Black_rot/8277c9af-...             28  \n",
       "4497   ./dataset/complete/Tomato___Leaf_Mold/60f7b149...              2  \n",
       "...                                                  ...            ...  \n",
       "63629  ./dataset/complete/Tomato___Bacterial_spot/a2b...             27  \n",
       "14938  ./dataset/complete/Grape___Esca_(Black_Measles...              6  \n",
       "1496   ./dataset/complete/Raspberry___healthy/b1291c3...              0  \n",
       "37216  ./dataset/complete/Tomato___Spider_mites Two-s...             16  \n",
       "59425  ./dataset/complete/Potato___healthy/b35b9f8b-d...             25  \n",
       "\n",
       "[17574 rows x 3 columns]"
      ]
     },
     "execution_count": 18,
     "metadata": {},
     "output_type": "execute_result"
    }
   ],
   "source": [
    "test"
   ]
  },
  {
   "cell_type": "markdown",
   "metadata": {},
   "source": [
    "# Custom dataset class"
   ]
  },
  {
   "cell_type": "code",
   "execution_count": 19,
   "metadata": {},
   "outputs": [],
   "source": [
    "class Leaf(Dataset):\n",
    "    def __init__(self, dataframe, transform=None):\n",
    "        self.dataframe = dataframe\n",
    "        self.transform = transform\n",
    "\n",
    "    def __len__(self):\n",
    "        return len(self.dataframe)\n",
    "\n",
    "    def __getitem__(self, idx):\n",
    "        img_path = self.dataframe.iloc[idx, 1]\n",
    "        image = Image.open(img_path).convert('RGB')\n",
    "        label = self.dataframe.iloc[idx, 2]\n",
    "        # label = label_to_index[label]  # Convert label to integer\n",
    "\n",
    "        if self.transform:\n",
    "            image = self.transform(image)\n",
    "\n",
    "        return image, label"
   ]
  },
  {
   "cell_type": "code",
   "execution_count": 20,
   "metadata": {},
   "outputs": [],
   "source": [
    "transform = transforms.Compose([\n",
    "    transforms.ToTensor(),\n",
    "])"
   ]
  },
  {
   "cell_type": "code",
   "execution_count": 21,
   "metadata": {},
   "outputs": [],
   "source": [
    "train_dataset = Leaf(train, transform=transform)\n",
    "valid_dataset = Leaf(valid, transform=transform)\n",
    "test_dataset = Leaf(test, transform=transform)"
   ]
  },
  {
   "cell_type": "code",
   "execution_count": 22,
   "metadata": {},
   "outputs": [],
   "source": [
    "def show_batch(data):\n",
    "    for images, labels in data:\n",
    "        fig, ax = plt.subplots(figsize=(30, 30))\n",
    "        ax.set_xticks([]); ax.set_yticks([])\n",
    "        ax.imshow(make_grid(images, nrow=8).permute(1, 2, 0))\n",
    "        break"
   ]
  },
  {
   "cell_type": "code",
   "execution_count": 23,
   "metadata": {},
   "outputs": [],
   "source": [
    "# show_batch(train_loader) "
   ]
  },
  {
   "cell_type": "markdown",
   "metadata": {},
   "source": [
    "## Convert device to cuda, if available"
   ]
  },
  {
   "cell_type": "code",
   "execution_count": 24,
   "metadata": {},
   "outputs": [
    {
     "name": "stdout",
     "output_type": "stream",
     "text": [
      "cuda\n"
     ]
    }
   ],
   "source": [
    "device = torch.device(\"cuda\" if torch.cuda.is_available() else \"cpu\")\n",
    "\n",
    "print(device)"
   ]
  },
  {
   "cell_type": "code",
   "execution_count": 25,
   "metadata": {},
   "outputs": [],
   "source": [
    "class DeviceDataLoader:\n",
    "    \"\"\"Wrap a DataLoader to move data to a device\"\"\"\n",
    "    def __init__(self, dataloader, device):\n",
    "        self.dataloader = dataloader\n",
    "        self.device = device\n",
    "\n",
    "    def __iter__(self):\n",
    "        \"\"\"Yield a batch of data after moving it to device\"\"\"\n",
    "        for batch in self.dataloader:\n",
    "            yield self._to_device(batch, self.device)\n",
    "\n",
    "    def __len__(self):\n",
    "        \"\"\"Number of batches\"\"\"\n",
    "        return len(self.dataloader)\n",
    "\n",
    "    @staticmethod\n",
    "    def _to_device(data, device):\n",
    "        \"\"\"Move data to device\"\"\"\n",
    "        if isinstance(data, (list, tuple)):\n",
    "            return [item.to(device) if isinstance(item, torch.Tensor) else item for item in data]\n",
    "        return data.to(device)\n"
   ]
  },
  {
   "cell_type": "markdown",
   "metadata": {},
   "source": [
    "# CNN"
   ]
  },
  {
   "cell_type": "code",
   "execution_count": 26,
   "metadata": {},
   "outputs": [],
   "source": [
    "import torch.nn as nn\n",
    "import torch.nn.functional as F\n",
    "\n",
    "class CNNModel(nn.Module):\n",
    "    def __init__(self, num_classes=38, dropout_rate=0.5):\n",
    "        super(CNNModel, self).__init__()\n",
    "        # Convolutional layers\n",
    "        self.conv1 = nn.Conv2d(3, 16, kernel_size=3, padding=1)\n",
    "        self.conv2 = nn.Conv2d(16, 32, kernel_size=3, padding=1)\n",
    "        self.conv3 = nn.Conv2d(32, 64, kernel_size=3, padding=1)\n",
    "        self.pool = nn.MaxPool2d(2, 2)\n",
    "        # Dropout layer - now using the parameter\n",
    "        self.dropout = nn.Dropout(dropout_rate)\n",
    "        # Fully connected layers\n",
    "        self.fc1 = nn.Linear(64 * 32 * 32, 512)\n",
    "        self.fc2 = nn.Linear(512, num_classes)\n",
    "\n",
    "    def forward(self, x):\n",
    "        x = self.pool(F.relu(self.conv1(x)))\n",
    "        x = self.pool(F.relu(self.conv2(x)))\n",
    "        x = self.pool(F.relu(self.conv3(x)))\n",
    "        x = x.view(-1, 64 * 32 * 32)  # Flatten the tensor\n",
    "        x = F.relu(self.fc1(x))\n",
    "        x = self.dropout(x)  # Apply dropout\n",
    "        x = self.fc2(x)\n",
    "        return x\n"
   ]
  },
  {
   "cell_type": "markdown",
   "metadata": {},
   "source": [
    "## Hyper parameter tuning"
   ]
  },
  {
   "cell_type": "code",
   "execution_count": 27,
   "metadata": {},
   "outputs": [],
   "source": [
    "hyperparams = {\n",
    "    'learning_rate': [0.00001, 0.0001, 0.001],\n",
    "    'dropout_rate': [0.3, 0.5, 0.7],\n",
    "    'batch_size': [16, 32, 64]\n",
    "}"
   ]
  },
  {
   "cell_type": "code",
   "execution_count": 28,
   "metadata": {},
   "outputs": [],
   "source": [
    "import torch.optim as optim"
   ]
  },
  {
   "cell_type": "code",
   "execution_count": 29,
   "metadata": {},
   "outputs": [],
   "source": [
    "def random_search(learning_rate, dropout_rate, batch_size):\n",
    "    print(f\"****************************************\")\n",
    "    print(f\"Random Search: LR: {learning_rate} DR: {dropout_rate} BS: {batch_size}\")\n",
    "    \n",
    "    train_loader = DataLoader(train_dataset, batch_size=batch_size, num_workers=2, shuffle=True)\n",
    "    valid_loader = DataLoader(valid_dataset, batch_size=batch_size, num_workers=2, shuffle=False)\n",
    "    test_loader = DataLoader(test_dataset, batch_size=batch_size, num_workers=2, shuffle=False)\n",
    "\n",
    "    train_loader = DeviceDataLoader(train_loader, device)\n",
    "    valid_loader = DeviceDataLoader(valid_loader, device)\n",
    "    test_loader = DeviceDataLoader(test_loader, device)\n",
    "\n",
    "    # Instantiate the CNN model\n",
    "    model = CNNModel(num_classes=38, dropout_rate=dropout_rate)\n",
    "    model.to(device)  # Move model to the appropriate device\n",
    "\n",
    "    # Loss Function\n",
    "    criterion = nn.CrossEntropyLoss()\n",
    "\n",
    "    # Optimizer (using Adam here)\n",
    "    optimizer = optim.Adam(model.parameters(), lr=learning_rate)\n",
    "\n",
    "    num_epochs = 10  # Define the number of epochs\n",
    "\n",
    "    for epoch in range(num_epochs):\n",
    "        model.train()\n",
    "        running_loss = 0.0\n",
    "        for batch in train_loader:\n",
    "            images, labels = batch  # Unpack the batch\n",
    "            # Ensure images and labels are tensors and correctly retrieved\n",
    "            optimizer.zero_grad()\n",
    "            outputs = model(images)\n",
    "            loss = criterion(outputs, labels)\n",
    "            loss.backward()\n",
    "            optimizer.step()\n",
    "            running_loss += loss.item()\n",
    "        \n",
    "        # Validation step\n",
    "        model.eval()\n",
    "        valid_loss = 0.0\n",
    "        correct = 0\n",
    "        total = 0\n",
    "        with torch.no_grad():\n",
    "            for images, labels in valid_loader:\n",
    "                outputs = model(images)\n",
    "                loss = criterion(outputs, labels)\n",
    "                valid_loss += loss.item()\n",
    "                _, predicted = torch.max(outputs.data, 1)\n",
    "                total += labels.size(0)\n",
    "                correct += (predicted == labels).sum().item()\n",
    "\n",
    "        # Print statistics\n",
    "        print(f\"Epoch {epoch+1}/{num_epochs}, Training Loss: {running_loss/len(train_loader)}, Validation Loss: {valid_loss/len(valid_loader)}, Validation Accuracy: {100 * correct / total}%\")\n",
    "\n",
    "    model.eval()\n",
    "    test_loss = 0.0\n",
    "    correct = 0\n",
    "    total = 0\n",
    "\n",
    "    with torch.no_grad():\n",
    "        for images, labels in test_loader:\n",
    "            images, labels = images.to(device), labels.to(device)\n",
    "            outputs = model(images)\n",
    "            loss = criterion(outputs, labels)\n",
    "            test_loss += loss.item()\n",
    "            _, predicted = torch.max(outputs.data, 1)\n",
    "            total += labels.size(0)\n",
    "            correct += (predicted == labels).sum().item()\n",
    "\n",
    "    print(f\"Test Loss: {test_loss/len(test_loader)}, Test Accuracy: {100 * correct / total}%\")\n",
    "\n",
    "\n"
   ]
  },
  {
   "cell_type": "code",
   "execution_count": 30,
   "metadata": {},
   "outputs": [],
   "source": [
    "import itertools"
   ]
  },
  {
   "cell_type": "code",
   "execution_count": 31,
   "metadata": {},
   "outputs": [
    {
     "name": "stdout",
     "output_type": "stream",
     "text": [
      "****************************************\n",
      "Random Search: LR: 1e-05 DR: 0.3 BS: 16\n"
     ]
    }
   ],
   "source": [
    "for lr, dr, bs in itertools.product(hyperparams['learning_rate'], hyperparams['dropout_rate'], hyperparams['batch_size']):\n",
    "    random_search(lr, dr, bs)"
   ]
  }
 ],
 "metadata": {
  "kernelspec": {
   "display_name": "birdclef",
   "language": "python",
   "name": "python3"
  },
  "language_info": {
   "codemirror_mode": {
    "name": "ipython",
    "version": 3
   },
   "file_extension": ".py",
   "mimetype": "text/x-python",
   "name": "python",
   "nbconvert_exporter": "python",
   "pygments_lexer": "ipython3",
   "version": "3.8.8"
  },
  "orig_nbformat": 4
 },
 "nbformat": 4,
 "nbformat_minor": 2
}
